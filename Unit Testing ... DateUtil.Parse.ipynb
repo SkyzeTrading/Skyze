{
 "cells": [
  {
   "cell_type": "code",
   "execution_count": 10,
   "metadata": {},
   "outputs": [
    {
     "data": {
      "text/plain": [
       "datetime.datetime(2003, 9, 25, 0, 0)"
      ]
     },
     "execution_count": 10,
     "metadata": {},
     "output_type": "execute_result"
    }
   ],
   "source": [
    "from dateutil import parser\n",
    "import os\n",
    "import Skyze_Standard_Library.settings_skyze as settings_skyze\n",
    "import pandas as pd\n",
    "parser.parse(\"20030925\")"
   ]
  },
  {
   "cell_type": "markdown",
   "metadata": {},
   "source": [
    "# Crosses"
   ]
  },
  {
   "cell_type": "code",
   "execution_count": 37,
   "metadata": {},
   "outputs": [
    {
     "name": "stdout",
     "output_type": "stream",
     "text": [
      "Parent - file read target results\n",
      "column_names: ['Date', 'H-L', 'H-PC', 'L-PC', 'True_Range', 'ATR_15', 'basic_ub', 'basic_lb', 'final_ub', 'final_lb', 'Super_Trend']\n",
      "       Date  H-L  H-PC  L-PC True_Range  ATR_15  basic_ub  basic_lb  final_ub  \\\n",
      "0  20130428  NaN   NaN   NaN        NaN     NaN       NaN       NaN       NaN   \n",
      "1  20130429  NaN   NaN   NaN        NaN     NaN       NaN       NaN       NaN   \n",
      "\n",
      "   final_lb  Super_Trend  \n",
      "0       NaN          NaN  \n",
      "1       NaN          NaN  \n",
      "date head\n",
      "0    20130428\n",
      "1    20130429\n",
      "2    20130430\n",
      "3    20130501\n",
      "4    20130502\n",
      "Name: Date, dtype: int64\n",
      "['Date' 'H-L' 'H-PC' 'L-PC' 'True_Range' 'ATR_15' 'basic_ub' 'basic_lb'\n",
      " 'final_ub' 'final_lb' 'Super_Trend']\n"
     ]
    }
   ],
   "source": [
    "p_file_name = \"Results-bitcoin-Crosses\"\n",
    "# \"Results-bitcoin-SuperTrend\"\n",
    "file_path = os.path.join(settings_skyze.target_results_file_path, \"%s.csv\" % p_file_name)\n",
    "p_column_names = [\"H-L\",\"H-PC\",\"L-PC\",\"True_Range\",\"ATR_15\",\"basic_ub\",\"basic_lb\",\"final_ub\",\"final_lb\",\"Super_Trend\"]\n",
    "column_names = [\"Date\"] + p_column_names\n",
    "\n",
    "target_results = pd.read_csv(\n",
    "                                file_path,\n",
    "                                header=None ,\n",
    "                                names = column_names,\n",
    "                                index_col= False,\n",
    "                                skiprows = 1\n",
    "                            )\n",
    "\n",
    "print(\"Parent - file read target results\")\n",
    "print(\"column_names: \"+str(column_names))\n",
    "print(target_results.head(2))\n",
    "print(\"date head\")\n",
    "print(target_results[\"Date\"].head(5))\n",
    "print(str(target_results.columns.values ))"
   ]
  },
  {
   "cell_type": "code",
   "execution_count": 38,
   "metadata": {},
   "outputs": [
    {
     "name": "stdout",
     "output_type": "stream",
     "text": [
      "                Date  H-L  H-PC  L-PC True_Range  ATR_15  basic_ub  basic_lb  \\\n",
      "2013-04-28  20130428  NaN   NaN   NaN        NaN     NaN       NaN       NaN   \n",
      "2013-04-29  20130429  NaN   NaN   NaN        NaN     NaN       NaN       NaN   \n",
      "2013-04-30  20130430  NaN   NaN   NaN        NaN     NaN       NaN       NaN   \n",
      "2013-05-01  20130501  NaN   NaN   NaN        NaN     NaN       NaN       NaN   \n",
      "2013-05-02  20130502  NaN   NaN   NaN        NaN     NaN       NaN       NaN   \n",
      "\n",
      "            final_ub  final_lb  Super_Trend  \n",
      "2013-04-28       NaN       NaN          NaN  \n",
      "2013-04-29       NaN       NaN          NaN  \n",
      "2013-04-30       NaN       NaN          NaN  \n",
      "2013-05-01       NaN       NaN          NaN  \n",
      "2013-05-02       NaN       NaN          NaN  \n"
     ]
    }
   ],
   "source": [
    "target_results.index = [parser.parse(str(d)) for d in target_results[\"Date\"]]\n",
    "print(target_results.head(5))"
   ]
  },
  {
   "cell_type": "markdown",
   "metadata": {},
   "source": [
    "# Super Trend"
   ]
  },
  {
   "cell_type": "code",
   "execution_count": 44,
   "metadata": {},
   "outputs": [
    {
     "name": "stdout",
     "output_type": "stream",
     "text": [
      "Parent - file read target results\n",
      "column_names: ['Date', 'H-L', 'H-PC', 'L-PC', 'True_Range', 'ATR_15', 'basic_ub', 'basic_lb', 'final_ub', 'final_lb', 'Super_Trend']\n",
      "       Date    H-L   H-PC  L-PC  True_Range  ATR_15  basic_ub  basic_lb  \\\n",
      "0  20130428   3.88   0.00  0.00        0.00     NaN       NaN       NaN   \n",
      "1  20130429  13.49  13.28 -0.21       13.49     NaN       NaN       NaN   \n",
      "\n",
      "   final_ub  final_lb  Super_Trend  \n",
      "0       NaN       NaN          NaN  \n",
      "1       NaN       NaN          NaN  \n",
      "date head\n",
      "0    20130428\n",
      "1    20130429\n",
      "2    20130430\n",
      "3    20130501\n",
      "4    20130502\n",
      "Name: Date, dtype: int64\n",
      "['Date' 'H-L' 'H-PC' 'L-PC' 'True_Range' 'ATR_15' 'basic_ub' 'basic_lb'\n",
      " 'final_ub' 'final_lb' 'Super_Trend']\n"
     ]
    }
   ],
   "source": [
    "p_file_name = \"Results-bitcoin-SuperTrend\"\n",
    "file_path = os.path.join(settings_skyze.target_results_file_path, \"%s.csv\" % p_file_name)\n",
    "p_column_names = [\"H-L\",\"H-PC\",\"L-PC\",\"True_Range\",\"ATR_15\",\"basic_ub\",\"basic_lb\",\"final_ub\",\"final_lb\",\"Super_Trend\"]\n",
    "column_names = [\"Date\"] + p_column_names\n",
    "\n",
    "\n",
    "target_results = pd.read_csv(\n",
    "                                file_path,\n",
    "                                header = None ,\n",
    "                                names = column_names,\n",
    "                                skiprows = 1\n",
    "                            )\n",
    "\n",
    "print(\"Parent - file read target results\")\n",
    "print(\"column_names: \"+str(column_names))\n",
    "print(target_results.head(2))\n",
    "print(\"date head\")\n",
    "print(target_results[\"Date\"].head(5))\n",
    "print(str(target_results.columns.values ))"
   ]
  },
  {
   "cell_type": "code",
   "execution_count": 45,
   "metadata": {},
   "outputs": [
    {
     "name": "stdout",
     "output_type": "stream",
     "text": [
      "                Date    H-L   H-PC   L-PC  True_Range  ATR_15  basic_ub  \\\n",
      "2013-04-28  20130428   3.88   0.00   0.00        0.00     NaN       NaN   \n",
      "2013-04-29  20130429  13.49  13.28  -0.21       13.49     NaN       NaN   \n",
      "2013-04-30  20130430  12.88   2.39 -10.49       12.88     NaN       NaN   \n",
      "2013-05-01  20130501  32.17   0.89 -31.28       32.17     NaN       NaN   \n",
      "2013-05-02  20130502  33.32   8.61 -24.71       33.32     NaN       NaN   \n",
      "\n",
      "            basic_lb  final_ub  final_lb  Super_Trend  \n",
      "2013-04-28       NaN       NaN       NaN          NaN  \n",
      "2013-04-29       NaN       NaN       NaN          NaN  \n",
      "2013-04-30       NaN       NaN       NaN          NaN  \n",
      "2013-05-01       NaN       NaN       NaN          NaN  \n",
      "2013-05-02       NaN       NaN       NaN          NaN  \n"
     ]
    }
   ],
   "source": [
    "target_results.index = [parser.parse(str(d)) for d in target_results[\"Date\"]]\n",
    "print(target_results.head(5))"
   ]
  },
  {
   "cell_type": "code",
   "execution_count": null,
   "metadata": {},
   "outputs": [],
   "source": []
  }
 ],
 "metadata": {
  "kernelspec": {
   "display_name": "Python 3",
   "language": "python",
   "name": "python3"
  },
  "language_info": {
   "codemirror_mode": {
    "name": "ipython",
    "version": 3
   },
   "file_extension": ".py",
   "mimetype": "text/x-python",
   "name": "python",
   "nbconvert_exporter": "python",
   "pygments_lexer": "ipython3",
   "version": "3.6.2"
  }
 },
 "nbformat": 4,
 "nbformat_minor": 2
}
