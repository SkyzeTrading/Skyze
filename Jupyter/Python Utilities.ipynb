{
 "cells": [
  {
   "cell_type": "markdown",
   "metadata": {},
   "source": [
    "# List installed packages"
   ]
  },
  {
   "cell_type": "code",
   "execution_count": 1,
   "metadata": {},
   "outputs": [
    {
     "name": "stdout",
     "output_type": "stream",
     "text": [
      "['appnope==0.1.0', 'astroid==1.5.3', 'beautifulsoup4==4.6.0', 'bleach==2.0.0', 'bs4==0.0.1', 'certifi==2017.7.27.1', 'chardet==3.0.4', 'decorator==4.1.2', 'entrypoints==0.2.3', 'et-xmlfile==1.0.1', 'graphviz==0.8', 'html5lib==0.999999999', 'idna==2.6', 'ipykernel==4.6.1', 'ipython-genutils==0.2.0', 'ipython==6.2.0', 'ipywidgets==7.0.1', 'isort==4.2.15', 'jdcal==1.3', 'jedi==0.11.0', 'jinja2==2.9.6', 'jsonschema==2.6.0', 'jupyter-client==5.1.0', 'jupyter-console==5.2.0', 'jupyter-core==4.3.0', 'jupyter==1.0.0', 'lazy-object-proxy==1.3.1', 'linecache2==1.0.0', 'markupsafe==1.0', 'mccabe==0.6.1', 'mistune==0.7.4', 'nbconvert==5.3.1', 'nbformat==4.4.0', 'notebook==5.1.0', 'numpy==1.13.1', 'openpyxl==2.4.8', 'pandas==0.20.3', 'pandocfilters==1.4.2', 'parso==0.1.0', 'pathlib2==2.3.0', 'pexpect==4.2.1', 'pickleshare==0.7.4', 'pip==9.0.1', 'prompt-toolkit==1.0.15', 'ptyprocess==0.5.2', 'pygments==2.2.0', 'pylint==1.7.2', 'python-dateutil==2.6.1', 'pytz==2017.2', 'pyzmq==16.0.2', 'qtconsole==4.3.1', 'requests==2.18.4', 'setuptools==36.5.0', 'simplegeneric==0.8.1', 'six==1.11.0', 'terminado==0.6', 'testpath==0.3.1', 'tornado==4.5.2', 'traceback2==1.4.0', 'traitlets==4.3.2', 'unittest2==1.1.0', 'urllib3==1.22', 'wcwidth==0.1.7', 'webencodings==0.5.1', 'wheel==0.30.0', 'widgetsnbextension==3.0.3', 'wrapt==1.10.11']\n"
     ]
    }
   ],
   "source": [
    "import pip\n",
    "installed_packages = pip.get_installed_distributions()\n",
    "installed_packages_list = sorted([\"%s==%s\" % (i.key, i.version)\n",
    "     for i in installed_packages])\n",
    "print(installed_packages_list)"
   ]
  },
  {
   "cell_type": "code",
   "execution_count": null,
   "metadata": {},
   "outputs": [],
   "source": []
  }
 ],
 "metadata": {
  "kernelspec": {
   "display_name": "Python 3",
   "language": "python",
   "name": "python3"
  },
  "language_info": {
   "codemirror_mode": {
    "name": "ipython",
    "version": 3
   },
   "file_extension": ".py",
   "mimetype": "text/x-python",
   "name": "python",
   "nbconvert_exporter": "python",
   "pygments_lexer": "ipython3",
   "version": "3.6.2"
  }
 },
 "nbformat": 4,
 "nbformat_minor": 2
}
