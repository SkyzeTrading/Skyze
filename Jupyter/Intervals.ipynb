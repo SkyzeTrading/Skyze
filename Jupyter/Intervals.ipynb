{
 "cells": [
  {
   "cell_type": "code",
   "execution_count": 10,
   "metadata": {
    "collapsed": false
   },
   "outputs": [
    {
     "name": "stdout",
     "output_type": "stream",
     "text": [
      "            Open    High    Low   Close Volume   MarketCap  HLOrder\n",
      "Date                                                               \n",
      "20130428  135.30  135.98  132.1  134.21      -  1500520000      NaN\n",
      "20130429  134.44  147.49  134.0  144.54      -  1491160000      NaN\n",
      "        Directory_name  Seconds\n",
      "Name                           \n",
      "TICK              tick        0\n",
      "MIN_5        minutes_5      300\n",
      "MIN_15       minutes_5     1500\n",
      "MIN_30       minutes_5     3600\n",
      "HOUR_1         hours_1     3600\n",
      "HOUR_2         hours_2     3600\n",
      "HOUR_4         hours_4     3600\n",
      "DAY_1            day_1     3600\n",
      "WEEK_1          week_1     3600\n",
      "MONTH_1        month_1     3600\n"
     ]
    }
   ],
   "source": [
    "import os\n",
    "import sys\n",
    "import pandas as pd\n",
    "\n",
    "import os,sys,inspect\n",
    "currentdir = os.path.dirname(os.path.abspath(inspect.getfile(inspect.currentframe())))\n",
    "parentdir = os.path.dirname(currentdir)\n",
    "sys.path.insert(0,parentdir) \n",
    "\n",
    "import Skyze_Standard_Library.settings_skyze as settings_skyze\n",
    "\n",
    "file_path = os.path.join(\"/Users/michaelnew/Dropbox/Trading/Data/Test_Data/\",\"bitcoin_TEST.csv\")\n",
    "df = pd.read_csv(\n",
    "                        file_path, \n",
    "                        header=None ,\n",
    "                        names = [\n",
    "                                  \"Date\", \"Open\", \"High\", \"Low\",\n",
    "                                  \"Close\", \"Volume\", \"MarketCap\",\"HLOrder\"\n",
    "                                ],\n",
    "                        index_col = \"Date\"\n",
    "                        )\n",
    "\n",
    "print(df.head(2))\n",
    "print(settings_skyze.intervals)"
   ]
  },
  {
   "cell_type": "code",
   "execution_count": 14,
   "metadata": {
    "collapsed": false
   },
   "outputs": [
    {
     "data": {
      "text/html": [
       "<div>\n",
       "<table border=\"1\" class=\"dataframe\">\n",
       "  <thead>\n",
       "    <tr style=\"text-align: right;\">\n",
       "      <th></th>\n",
       "      <th>Directory_name</th>\n",
       "      <th>Seconds</th>\n",
       "    </tr>\n",
       "    <tr>\n",
       "      <th>Name</th>\n",
       "      <th></th>\n",
       "      <th></th>\n",
       "    </tr>\n",
       "  </thead>\n",
       "  <tbody>\n",
       "    <tr>\n",
       "      <th>TICK</th>\n",
       "      <td>tick</td>\n",
       "      <td>0</td>\n",
       "    </tr>\n",
       "    <tr>\n",
       "      <th>HOUR_1</th>\n",
       "      <td>hours_1</td>\n",
       "      <td>3600</td>\n",
       "    </tr>\n",
       "    <tr>\n",
       "      <th>DAY_1</th>\n",
       "      <td>day_1</td>\n",
       "      <td>3600</td>\n",
       "    </tr>\n",
       "  </tbody>\n",
       "</table>\n",
       "</div>"
      ],
      "text/plain": [
       "       Directory_name  Seconds\n",
       "Name                          \n",
       "TICK             tick        0\n",
       "HOUR_1        hours_1     3600\n",
       "DAY_1           day_1     3600"
      ]
     },
     "execution_count": 14,
     "metadata": {},
     "output_type": "execute_result"
    }
   ],
   "source": [
    "settings_skyze.intervals.ix[[\"TICK\",\"HOUR_1\",\"DAY_1\"]]"
   ]
  },
  {
   "cell_type": "code",
   "execution_count": null,
   "metadata": {
    "collapsed": true
   },
   "outputs": [],
   "source": []
  }
 ],
 "metadata": {
  "anaconda-cloud": {},
  "kernelspec": {
   "display_name": "Python [conda root]",
   "language": "python",
   "name": "conda-root-py"
  },
  "language_info": {
   "codemirror_mode": {
    "name": "ipython",
    "version": 3
   },
   "file_extension": ".py",
   "mimetype": "text/x-python",
   "name": "python",
   "nbconvert_exporter": "python",
   "pygments_lexer": "ipython3",
   "version": "3.5.2"
  }
 },
 "nbformat": 4,
 "nbformat_minor": 1
}
