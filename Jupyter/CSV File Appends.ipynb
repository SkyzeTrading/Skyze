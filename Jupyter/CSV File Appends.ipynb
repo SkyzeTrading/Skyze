{
 "cells": [
  {
   "cell_type": "markdown",
   "metadata": {},
   "source": [
    "# CSV File Appends"
   ]
  },
  {
   "cell_type": "code",
   "execution_count": 34,
   "metadata": {},
   "outputs": [
    {
     "name": "stdout",
     "output_type": "stream",
     "text": [
      "/Users/michaelnew/Dropbox/Trading/Data/CoinMarketCap_ICO/BiTcoin.csv\n",
      "End: Aug 26 2017\n",
      "start: Jul 28 2017\n"
     ]
    }
   ],
   "source": [
    "import pandas as pd\n",
    "import csv\n",
    "import os\n",
    "from collections import deque\n",
    "\n",
    "import Skyze_Standard_Library.settings_skyze as settings_skyze\n",
    "\n",
    "market = \"BiTcoin\"\n",
    "file_path = os.path.join(settings_skyze.data_file_path, \"%s.csv\" % market)\n",
    "print(file_path)\n",
    "\n",
    "top = pd.read_csv(file_path,nrows=0)\n",
    "\n",
    "headers = top.columns.values\n",
    "endDate = headers[0][:11]\n",
    "print(\"End: \"+endDate)\n",
    "\n",
    "with open(file_path, 'r') as f:\n",
    "    q = deque(f, 1)\n",
    "print(\"start: \"+q[0][:11])"
   ]
  },
  {
   "cell_type": "code",
   "execution_count": null,
   "metadata": {
    "collapsed": true
   },
   "outputs": [],
   "source": []
  }
 ],
 "metadata": {
  "kernelspec": {
   "display_name": "Python 3",
   "language": "python",
   "name": "python3"
  },
  "language_info": {
   "codemirror_mode": {
    "name": "ipython",
    "version": 3
   },
   "file_extension": ".py",
   "mimetype": "text/x-python",
   "name": "python",
   "nbconvert_exporter": "python",
   "pygments_lexer": "ipython3",
   "version": "3.6.2"
  }
 },
 "nbformat": 4,
 "nbformat_minor": 2
}
