{
 "cells": [
  {
   "cell_type": "markdown",
   "metadata": {},
   "source": [
    "# CMC Scraping Historical Data\n"
   ]
  },
  {
   "cell_type": "markdown",
   "metadata": {},
   "source": [
    "## Get List of Markets"
   ]
  },
  {
   "cell_type": "code",
   "execution_count": 6,
   "metadata": {
    "collapsed": false,
    "scrolled": true
   },
   "outputs": [],
   "source": [
    "import pandas as pd\n",
    "import numpy as np\n",
    "\n",
    "import os\n",
    "#import time\n",
    "from datetime import datetime\n",
    "\n",
    "#import Skyze_Standard_Library.settings_skyze as settings_skyze\n",
    "\n",
    "from pprint import pprint\n",
    "import re\n",
    "import csv\n",
    "\n",
    "\n",
    "import datetime\n",
    "\n",
    "# import webscraping libraries\n",
    "import urllib.request as urllibReq\n",
    "from bs4 import BeautifulSoup\n",
    "\n",
    "#markets = [\"AseanCoin\",\"InsureX\",\"Mothership\",\"People_Coin\",\"Birds\",\"Blakestar\",\"Cream\",\"GeyserCoin\",\"0x\"]\n",
    "# markets = [\"ATMCoin\",\"Dochain\",\"Nebulas-Token\",\"XTD-Coin\",\"Frazcoin\",\"TrueFlip\",\"VeChain\",\"Hshare\",\n",
    "#             \"MyBit-Token\",\"Krypstal\",\"Growers-International\",\"YOYOW\",\"Smoke\",\"Bolenum\",\"0x\",\n",
    "#             \"Health-Care-Chain\",\"The-ChampCoin\",\"Excelcoin\",\"Timereum\",\"Sojourn\",\"Etheriya\",\n",
    "#             \"CoinonatX\",\"InvestFeed\",\"Monster-Byte\",\"Dent\",\"BitAsean\",\"Digital-Developers-Fund\",\n",
    "#             \"AdShares\",\"BlockCAT\",\"DeepOnion\",\"InfChain\",\"AppleCoin\",\"Shadow-Token\",\"Rupaya\",\n",
    "#             \"Dentacoin\",\"Nexxus\",\"Stakecoin\",\"Blocktix\",\"NEVERDIE\",\"First-Bitcoin-Capital\",\n",
    "#             \"Rustbits\",\"Mao-Zedong\",\"IOU1\",\"Centra\",\"Bytom\",\"Wink\",\"CoinDash\",\"Minex\",\"Etherx\",\n",
    "#             \"Stox\",\"HBCoin\",\"Fuda-Energy\",\"FiboCoins\",\"FundYourselfNow\",\"district0x\",\"Compcoin\",\n",
    "#             \"OpenAnx\",\"KekCoin\",\"BlakeStar\",\"Cream\",\"Birds\",\"Aseancoin\",\"Mothership\",\"GeyserCoin\",\n",
    "#             \"InsureX\",\"PeopleCoin\",\"EmberCoin\",\"CampusCoin\",\"Primalbase\"]\n",
    "markets = [\"Bitcoin\"]\n",
    "markets.sort()\n",
    "\n"
   ]
  },
  {
   "cell_type": "code",
   "execution_count": 7,
   "metadata": {
    "collapsed": false
   },
   "outputs": [
    {
     "name": "stdout",
     "output_type": "stream",
     "text": [
      "\n",
      "=== List of Markets =====\n",
      "0         bitcoin\n",
      "1        ethereum\n",
      "2    bitcoin-cash\n",
      "Name: id, dtype: object\n"
     ]
    }
   ],
   "source": [
    "### Let's get the markets from CMC\n",
    "\n",
    "import requests\n",
    "import json\n",
    "\n",
    "# Get the URL JSON\n",
    "# request=requests.get(url='https://api.coinmarketcap.com/v1/ticker/')\n",
    "request=requests.get(url='https://api.coinmarketcap.com/v1/ticker/?limit=3')\n",
    "\n",
    "# convert to DataFrame\n",
    "df = pd.DataFrame(request.json())\n",
    "#print(df)\n",
    "\n",
    "# get the list of markets\n",
    "print()\n",
    "print(\"=== List of Markets =====\")\n",
    "markets = df[\"id\"]\n",
    "print(df[\"id\"])"
   ]
  },
  {
   "cell_type": "markdown",
   "metadata": {},
   "source": [
    "## Get Historical Data"
   ]
  },
  {
   "cell_type": "code",
   "execution_count": 24,
   "metadata": {
    "collapsed": false
   },
   "outputs": [
    {
     "name": "stdout",
     "output_type": "stream",
     "text": [
      "bitcoin\n",
      "from: 20170727 . to:  20170911\n",
      "https://coinmarketcap.com/assets/bitcoin/historical-data/?start=20170727&end=20170911\n"
     ]
    }
   ],
   "source": [
    "markets = [\"bitcoin\"]\n",
    "for market in markets:\n",
    "    print (market)\n",
    "    # . https://coinmarketcap.com/assets/0x/historical-data/?start=20100101&end=20170826\n",
    "    todayDate = datetime.date.today().strftime('%Y%m%d')\n",
    "    startDate = \"20170727\"\n",
    "    marketStr = re.sub(\" \", \"-\", market)\n",
    "    scrape_page = \"https://coinmarketcap.com/assets/%(mkt)s/historical-data/?start=%(startDate)s&end=%(endDate)s\" % {\"mkt\":marketStr, \"startDate\":startDate, \"endDate\":todayDate}\n",
    "        \n",
    "    # query the website and return the html to the variable ‘page’\n",
    "    page = urllibReq.urlopen(scrape_page)\n",
    "\n",
    "    print(\"from: %(start)s . to:  %(end)s\" % {\"start\":startDate,\"end\":todayDate})\n",
    "    print(scrape_page)\n",
    "    \n",
    "    # parse the html using beautiful soap and store in variable `soup`\n",
    "    soup = BeautifulSoup(page, 'html.parser')\n",
    "    # soup = BeautifulSoup(page, ‘lxml’)\n",
    "\n",
    "    # Take out the <div> of name and get its value\n",
    "    name_box = soup.find('h1', attrs={'class': 'name'})\n",
    "\n",
    "    result = []\n",
    "    allrows = soup.findAll('tr')\n",
    "    for row in allrows:\n",
    "        result.append([])\n",
    "        allcols = row.findAll('td')\n",
    "        for col in allcols:\n",
    "          thestrings = col.findAll(text=True) \n",
    "          a = re.sub('[,]', '', thestrings[0])\n",
    "          result[-1].append(a)\n",
    "\n",
    "    result.pop(0)\n",
    "   "
   ]
  },
  {
   "cell_type": "code",
   "execution_count": 32,
   "metadata": {
    "collapsed": false
   },
   "outputs": [
    {
     "name": "stdout",
     "output_type": "stream",
     "text": [
      "           0        1        2        3        4           5            6\n",
      "0 2017-09-10  4229.34  4245.44  3951.04  4122.94  1679090000  70018100000\n",
      "1 2017-09-09  4229.81  4308.82  4114.11  4226.06  1386230000  70017200000\n",
      "2 2017-09-08  4605.16  4661.00  4075.18  4228.75  2700890000  76220200000\n",
      "3 2017-09-07  4589.14  4655.04  4491.33  4599.88  1844620000  75945000000\n",
      "4 2017-09-06  4376.59  4617.25  4376.59  4597.12  2172100000  72418700000\n"
     ]
    }
   ],
   "source": [
    "df = pd.DataFrame(result)\n",
    "df[0] = pd.to_datetime(df[0])\n",
    "print(df.head(5))\n",
    "df.to_csv(\"/Users/michaelnew/Dropbox/Trading/Data/test1.csv\",header=False, date_format='%Y-%m-%d %H:%M:%S')"
   ]
  },
  {
   "cell_type": "code",
   "execution_count": null,
   "metadata": {
    "collapsed": true
   },
   "outputs": [],
   "source": []
  }
 ],
 "metadata": {
  "anaconda-cloud": {},
  "kernelspec": {
   "display_name": "Python [default]",
   "language": "python",
   "name": "python3"
  },
  "language_info": {
   "codemirror_mode": {
    "name": "ipython",
    "version": 3
   },
   "file_extension": ".py",
   "mimetype": "text/x-python",
   "name": "python",
   "nbconvert_exporter": "python",
   "pygments_lexer": "ipython3",
   "version": "3.5.2"
  }
 },
 "nbformat": 4,
 "nbformat_minor": 2
}
