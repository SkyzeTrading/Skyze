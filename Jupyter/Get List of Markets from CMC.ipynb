{
 "cells": [
  {
   "cell_type": "markdown",
   "metadata": {},
   "source": [
    "# Get a List of all Markets from CMC\n",
    "## Working Code"
   ]
  },
  {
   "cell_type": "code",
   "execution_count": 6,
   "metadata": {},
   "outputs": [
    {
     "name": "stdout",
     "output_type": "stream",
     "text": [
      "  24h_volume_usd available_supply            id last_updated market_cap_usd  \\\n",
      "0   1505630000.0       16526912.0       bitcoin   1503812972  71741672301.0   \n",
      "1    555949000.0       94267494.0      ethereum   1503812971  31641827172.0   \n",
      "2    202159000.0       16548013.0  bitcoin-cash   1503813019  10040010144.0   \n",
      "\n",
      "           name percent_change_1h percent_change_24h percent_change_7d  \\\n",
      "0       Bitcoin              -0.5               0.28              5.02   \n",
      "1      Ethereum              -0.1                2.0             13.68   \n",
      "2  Bitcoin Cash             -1.45              -4.49            -24.96   \n",
      "\n",
      "   price_btc price_usd rank symbol total_supply  \n",
      "0        1.0    4340.9    1    BTC   16526912.0  \n",
      "1  0.0774126    335.66    2    ETH   94267494.0  \n",
      "2   0.139927    606.72    3    BCH   16548013.0  \n",
      "\n",
      "=== List of Markets =====\n",
      "<class 'pandas.core.series.Series'>\n",
      "0         bitcoin\n",
      "1        ethereum\n",
      "2    bitcoin-cash\n",
      "Name: id, dtype: object\n",
      "bitcoin\n",
      "ethereum\n",
      "bitcoin-cash\n",
      "End\n"
     ]
    }
   ],
   "source": [
    "#from urllib2 import Request, urlopen\n",
    "#import urllib.request\n",
    "import requests\n",
    "import json\n",
    "import pandas as pd\n",
    "from pandas.io.json import json_normalize\n",
    "from pprint import pprint\n",
    "import os\n",
    "from pandas import ExcelWriter\n",
    "# import xlwt\n",
    "\n",
    "import Skyze_Standard_Library.settings_skyze as settings_skyze\n",
    "\n",
    "# Get the URL JSON\n",
    "# request=requests.get(url='https://api.coinmarketcap.com/v1/ticker/')\n",
    "request=requests.get(url='https://api.coinmarketcap.com/v1/ticker/?limit=3')\n",
    "\n",
    "# convert to DataFrame\n",
    "df = pd.DataFrame(request.json())\n",
    "print(df)\n",
    "\n",
    "# get the list of markets\n",
    "print()\n",
    "print(\"=== List of Markets =====\")\n",
    "markets = df[\"id\"]\n",
    "print(type(df[\"id\"]))\n",
    "print(markets)\n",
    "for market in markets:\n",
    "    print(market)\n",
    "\n",
    "# Save to Excel\n",
    "# file_path = os.path.join(settings_skyze.data_file_path, \"CoinMarketCapMarkets.csv\")\n",
    "# df.to_csv(file_path)\n",
    "\n",
    "\n",
    "print('End')"
   ]
  },
  {
   "cell_type": "markdown",
   "metadata": {},
   "source": [
    "# Example"
   ]
  },
  {
   "cell_type": "code",
   "execution_count": null,
   "metadata": {
    "collapsed": true
   },
   "outputs": [],
   "source": []
  }
 ],
 "metadata": {
  "kernelspec": {
   "display_name": "Python 3",
   "language": "python",
   "name": "python3"
  },
  "language_info": {
   "codemirror_mode": {
    "name": "ipython",
    "version": 3
   },
   "file_extension": ".py",
   "mimetype": "text/x-python",
   "name": "python",
   "nbconvert_exporter": "python",
   "pygments_lexer": "ipython3",
   "version": "3.6.2"
  }
 },
 "nbformat": 4,
 "nbformat_minor": 2
}
