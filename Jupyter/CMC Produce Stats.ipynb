{
 "cells": [
  {
   "cell_type": "code",
   "execution_count": 11,
   "metadata": {},
   "outputs": [
    {
     "name": "stdout",
     "output_type": "stream",
     "text": [
      "Market: AseanCoin\n",
      "File Path: /Users/michaelnew/Dropbox/Trading/Data/CoinMarketCap_ICO\n",
      "Full File Path: /Users/michaelnew/Dropbox/Trading/Data/CoinMarketCap_ICO/AseanCoin.csv\n",
      "Market: AseanCoinTest\n",
      "File Path: /Users/michaelnew/Dropbox/Trading/Data/CoinMarketCap_ICO\n",
      "Full File Path: /Users/michaelnew/Dropbox/Trading/Data/CoinMarketCap_ICO/AseanCoinTest.csv\n",
      "Market: AseanCoinTest 2\n",
      "File Path: /Users/michaelnew/Dropbox/Trading/Data/CoinMarketCap_ICO\n",
      "Full File Path: /Users/michaelnew/Dropbox/Trading/Data/CoinMarketCap_ICO/AseanCoinTest 2.csv\n",
      "Market: Birds\n",
      "File Path: /Users/michaelnew/Dropbox/Trading/Data/CoinMarketCap_ICO\n",
      "Full File Path: /Users/michaelnew/Dropbox/Trading/Data/CoinMarketCap_ICO/Birds.csv\n",
      "Market: Blakestar\n",
      "File Path: /Users/michaelnew/Dropbox/Trading/Data/CoinMarketCap_ICO\n",
      "Full File Path: /Users/michaelnew/Dropbox/Trading/Data/CoinMarketCap_ICO/Blakestar.csv\n",
      "Market: Cream\n",
      "File Path: /Users/michaelnew/Dropbox/Trading/Data/CoinMarketCap_ICO\n",
      "Full File Path: /Users/michaelnew/Dropbox/Trading/Data/CoinMarketCap_ICO/Cream.csv\n",
      "Market: GeyserCoin\n",
      "File Path: /Users/michaelnew/Dropbox/Trading/Data/CoinMarketCap_ICO\n",
      "Full File Path: /Users/michaelnew/Dropbox/Trading/Data/CoinMarketCap_ICO/GeyserCoin.csv\n",
      "Market: InsureX\n",
      "File Path: /Users/michaelnew/Dropbox/Trading/Data/CoinMarketCap_ICO\n",
      "Full File Path: /Users/michaelnew/Dropbox/Trading/Data/CoinMarketCap_ICO/InsureX.csv\n",
      "Market: Mothership\n",
      "File Path: /Users/michaelnew/Dropbox/Trading/Data/CoinMarketCap_ICO\n",
      "Full File Path: /Users/michaelnew/Dropbox/Trading/Data/CoinMarketCap_ICO/Mothership.csv\n",
      "Market: People_Coin\n",
      "File Path: /Users/michaelnew/Dropbox/Trading/Data/CoinMarketCap_ICO\n",
      "Full File Path: /Users/michaelnew/Dropbox/Trading/Data/CoinMarketCap_ICO/People_Coin.csv\n"
     ]
    }
   ],
   "source": [
    "import pandas as pd\n",
    "import numpy as np\n",
    "\n",
    "import os\n",
    "#import time\n",
    "from datetime import datetime\n",
    "\n",
    "import Skyze_Standard_Library.settings_skyze as settings_skyze\n",
    "\n",
    "markets = [\"AseanCoinTest\",\"AseanCoinTest 2\",\"AseanCoin\",\"InsureX\",\"Mothership\",\"People_Coin\",\"Birds\",\"Blakestar\",\"Cream\",\"GeyserCoin\"]\n",
    "markets.sort()\n",
    "\n",
    "def readMarketDataCSV( market ): \n",
    "    \"Opens the file and reads the data\" \n",
    "    \n",
    "    print(\"Market: \" + market)\n",
    "    print(\"File Path: \" + settings_skyze.data_file_path)\n",
    "    file_path = os.path.join(settings_skyze.data_file_path, \"%s.csv\" % market)\n",
    "    print(\"Full File Path: \" + file_path)\n",
    "\n",
    "    # d is type <class 'pandas.core.frame.DataFrame'>\n",
    "    d = pd.read_csv(\n",
    "                    file_path, \n",
    "                    header=None ,\n",
    "                    skiprows=1,\n",
    "                    names=[\n",
    "                          \"Date\", \"Open\", \"Low\", \"High\",\n",
    "                          \"Close\", \"Volume\", \"MarketCap\",\"HLOrder\"\n",
    "                      ]\n",
    "                    )\n",
    "\n",
    "    #print (d )\n",
    "    #print(\"\")\n",
    "    \n",
    "    return d\n",
    "\n",
    "\n",
    "\n",
    "#------ Main Body -------------------------------------------------------------\n",
    "d = {}\n",
    "for market in markets:\n",
    "    d = readMarketDataCSV( market )\n",
    "\n"
   ]
  },
  {
   "cell_type": "code",
   "execution_count": 12,
   "metadata": {},
   "outputs": [
    {
     "name": "stdout",
     "output_type": "stream",
     "text": [
      "            Date      Open       Low      High     Close   Volume MarketCap  \\\n",
      "0   Aug 23, 2017  0.001348  0.001369  0.001184  0.001242    1,477         -   \n",
      "1   Aug 22, 2017  0.001200  0.001592  0.001051  0.001351    2,340         -   \n",
      "2   Aug 21, 2017  0.001222  0.001608  0.001195  0.001197    2,222         -   \n",
      "3   Aug 20, 2017  0.001202  0.001464  0.001013  0.001229    1,626         -   \n",
      "4   Aug 19, 2017  0.001438  0.001471  0.001159  0.001208      123         -   \n",
      "5   Aug 18, 2017  0.001584  0.001611  0.001238  0.001439       27         -   \n",
      "6   Aug 17, 2017  0.001536  0.001659  0.001219  0.001588      927         -   \n",
      "7   Aug 16, 2017  0.001246  0.001538  0.001072  0.001538      330         -   \n",
      "8   Aug 15, 2017  0.001255  0.001284  0.001159  0.001245       21         -   \n",
      "9   Aug 14, 2017  0.001259  0.001596  0.000916  0.001251    1,618         -   \n",
      "10  Aug 13, 2017  0.001083  0.001380  0.000888  0.001258      309         -   \n",
      "11  Aug 12, 2017  0.000949  0.001526  0.000911  0.001084    1,084         -   \n",
      "12  Aug 11, 2017  0.001025  0.001615  0.000931  0.000950    2,539         -   \n",
      "13  Aug 10, 2017  0.001337  0.001359  0.000888  0.001025    1,684         -   \n",
      "14  Aug 09, 2017  0.001709  0.002153  0.001142  0.001337   34,802         -   \n",
      "15  Aug 08, 2017  0.001865  0.002618  0.001580  0.001711   41,748         -   \n",
      "16  Aug 07, 2017  0.003220  0.004581  0.001541  0.001864   36,041         -   \n",
      "17  Aug 06, 2017  0.001009  0.006193  0.000947  0.003227  108,831         -   \n",
      "18  Aug 05, 2017  0.000714  0.001265  0.000713  0.001009      363         -   \n",
      "19  Aug 04, 2017  0.001031  0.001035  0.000668  0.000714       39         -   \n",
      "20  Aug 03, 2017  0.000648  0.001036  0.000648  0.001031       36         -   \n",
      "21  Aug 02, 2017  0.000546  0.001075  0.000539  0.000647      500         -   \n",
      "22  Aug 01, 2017  0.000572  0.000949  0.000478  0.000546       65         -   \n",
      "23  Jul 31, 2017  0.000794  0.000992  0.000378  0.000572      132         -   \n",
      "24  Jul 30, 2017  0.001196  0.001198  0.000787  0.000792      617         -   \n",
      "25  Jul 29, 2017  0.001173  0.001209  0.000988  0.001195      239         -   \n",
      "26  Jul 28, 2017  0.001300  0.001400  0.001013  0.001168      411         -   \n",
      "27  Jul 27, 2017  0.000949  0.001312  0.000949  0.001302      618         -   \n",
      "\n",
      "    HLOrder  \n",
      "0       NaN  \n",
      "1       NaN  \n",
      "2       NaN  \n",
      "3       NaN  \n",
      "4       NaN  \n",
      "5       NaN  \n",
      "6       NaN  \n",
      "7       NaN  \n",
      "8       NaN  \n",
      "9       NaN  \n",
      "10      NaN  \n",
      "11      NaN  \n",
      "12      NaN  \n",
      "13      NaN  \n",
      "14      NaN  \n",
      "15      NaN  \n",
      "16      NaN  \n",
      "17      NaN  \n",
      "18      NaN  \n",
      "19      NaN  \n",
      "20      NaN  \n",
      "21      NaN  \n",
      "22      NaN  \n",
      "23      NaN  \n",
      "24      NaN  \n",
      "25      NaN  \n",
      "26      NaN  \n",
      "27      NaN  \n"
     ]
    }
   ],
   "source": [
    "print(d)"
   ]
  },
  {
   "cell_type": "code",
   "execution_count": 13,
   "metadata": {},
   "outputs": [
    {
     "name": "stdout",
     "output_type": "stream",
     "text": [
      "People_Coin\n"
     ]
    }
   ],
   "source": [
    "print(market)"
   ]
  },
  {
   "cell_type": "code",
   "execution_count": 16,
   "metadata": {},
   "outputs": [
    {
     "data": {
      "text/plain": [
       "Date         Jul 31, 2017\n",
       "Open              0.00322\n",
       "Low              0.006193\n",
       "High              0.00158\n",
       "Close            0.003227\n",
       "Volume                927\n",
       "MarketCap               -\n",
       "HLOrder               NaN\n",
       "dtype: object"
      ]
     },
     "execution_count": 16,
     "metadata": {},
     "output_type": "execute_result"
    }
   ],
   "source": [
    "d.max()"
   ]
  },
  {
   "cell_type": "code",
   "execution_count": 20,
   "metadata": {},
   "outputs": [
    {
     "name": "stdout",
     "output_type": "stream",
     "text": [
      "<class 'pandas.core.series.Series'>\n"
     ]
    }
   ],
   "source": [
    "print(type(d.max()))"
   ]
  },
  {
   "cell_type": "code",
   "execution_count": 62,
   "metadata": {},
   "outputs": [],
   "source": [
    "d[\"Date\"] = pd.to_datetime(d[\"Date\"], infer_datetime_format=True)"
   ]
  },
  {
   "cell_type": "code",
   "execution_count": 63,
   "metadata": {},
   "outputs": [
    {
     "name": "stdout",
     "output_type": "stream",
     "text": [
      "From: 2017-07-27 00:00:00 To: 2017-08-23 00:00:00\n",
      "Number of Days: 28\n",
      "Initial Price:  0.000949\n",
      "Highest High:   0.00158  1.66\n",
      "Lowest Low:     0.000949  0.0\n"
     ]
    }
   ],
   "source": [
    "\n",
    "days = d.count()[\"High\"]\n",
    "initialPrice = d[\"Open\"][days-1]\n",
    "highestHigh = d.max()[\"High\"]\n",
    "highMult = round(highestHigh/initialPrice,2)\n",
    "lowestLow = d.min()[\"Low\"]\n",
    "lowMult = round(1-lowestLow/initialPrice,2)\n",
    "\n",
    "print(\"From: \"+str(d.min()[\"Date\"])+\" To: \"+str(d.max()[\"Date\"]))\n",
    "print(\"Number of Days: \"+str(days))\n",
    "print(\"Initial Price:  \"+str(initialPrice))\n",
    "print(\"Highest High:   \"+str(highestHigh)+\"  \"+str(highMult))\n",
    "print(\"Lowest Low:     \"+str(lowestLow)+\"  \"+str(lowMult))"
   ]
  },
  {
   "cell_type": "code",
   "execution_count": 67,
   "metadata": {},
   "outputs": [],
   "source": [
    "p_mktData = d"
   ]
  },
  {
   "cell_type": "code",
   "execution_count": 83,
   "metadata": {},
   "outputs": [
    {
     "name": "stdout",
     "output_type": "stream",
     "text": [
      "From: July 27, 2017 To: August 23, 2017\n",
      "Number of Days: 28\n",
      "Initial Price:  0.000949\n",
      "Highest High:   0.00158  1.66   on August 08, 2017\n",
      "Lowest Low:     0.000949  0.0   on August 01, 2017\n",
      "Low High Ratio: 1.66\n"
     ]
    }
   ],
   "source": [
    "days = p_mktData.count()[\"High\"]\n",
    "startDate = p_mktData[\"Date\"][days-1].strftime(\"%B %d, %Y\")\n",
    "endDate   = p_mktData[\"Date\"][0].strftime(\"%B %d, %Y\")\n",
    "initialPrice = p_mktData[\"Open\"][days-1]\n",
    "highestHigh = p_mktData.max()[\"High\"]\n",
    "highestHighDate = p_mktData.loc[p_mktData['High'].argmax(), \"Date\"].strftime(\"%B %d, %Y\")\n",
    "highMult = round(highestHigh/initialPrice,2)\n",
    "lowestLow = p_mktData.min()[\"Low\"]\n",
    "lowestLowDate = p_mktData.loc[p_mktData['Low'].argmin(), \"Date\"].strftime(\"%B %d, %Y\")\n",
    "lowMult = round(1-lowestLow/initialPrice,2)\n",
    "lowHighRatio = round(highestHigh/lowestLow,2)\n",
    "    \n",
    "\n",
    "print(\"From: \"+str(startDate)+\" To: \"+str(endDate))\n",
    "print(\"Number of Days: \"+str(days))\n",
    "print(\"Initial Price:  \"+str(initialPrice))\n",
    "print(\"Highest High:   \"+str(highestHigh)+\"  \"+str(highMult)+\"   on \"+str(highestHighDate))\n",
    "print(\"Lowest Low:     \"+str(lowestLow)+\"  \"+str(lowMult)+\"   on \"+str(lowestLowDate))\n",
    "print(\"Low High Ratio: \"+str(lowHighRatio))"
   ]
  },
  {
   "cell_type": "code",
   "execution_count": 130,
   "metadata": {},
   "outputs": [
    {
     "name": "stdout",
     "output_type": "stream",
     "text": [
      "From: July 27, 2017 To: August 23, 2017\n",
      "Number of Days: 28\n",
      "Initial Price:  0.000949\n",
      "Highest High:   0.00158  1.66   on August 08, 2017\n",
      "Lowest Low:     0.000949  0.0   on August 01, 2017\n",
      "Low High Ratio: 1.66\n",
      "<__main__.MarketStats object at 0x108917128>\n"
     ]
    }
   ],
   "source": [
    "class MarketStats:\n",
    "    \n",
    "    def __init__(self):\n",
    "        self.data = []\n",
    "        self.days            = 0\n",
    "        self.startDate       = 1\n",
    "        self.endDate         = 1\n",
    "        self.initialPrice    = 0\n",
    "        self.highestHigh     = 0\n",
    "        self.highestHighDate = 1\n",
    "        self.highMult        = 0\n",
    "        self.lowestLow       = 0\n",
    "        self.lowestLowDate   = 1\n",
    "        self.lowMult         = 0\n",
    "        self.lowHighRatio    = 0\n",
    "        \n",
    "    @classmethod\n",
    "    def calculateStats( self, p_mktData ):\n",
    "        self.days = p_mktData.count()[\"High\"]\n",
    "        self.startDate = p_mktData[\"Date\"][days-1].strftime(\"%B %d, %Y\")\n",
    "        self.endDate   = p_mktData[\"Date\"][0].strftime(\"%B %d, %Y\")\n",
    "        self.initialPrice = p_mktData[\"Open\"][days-1]\n",
    "        self.highestHigh = p_mktData.max()[\"High\"]\n",
    "        self.highestHighDate = p_mktData.loc[p_mktData['High'].argmax(), \"Date\"].strftime(\"%B %d, %Y\")\n",
    "        self.highMult = round(highestHigh/initialPrice,2)\n",
    "        self.lowestLow = p_mktData.min()[\"Low\"]\n",
    "        self.lowestLowDate = p_mktData.loc[p_mktData['Low'].argmin(), \"Date\"].strftime(\"%B %d, %Y\")\n",
    "        self.lowMult = round(1-lowestLow/initialPrice,2)\n",
    "        self.lowHighRatio = round(highestHigh/lowestLow,2)\n",
    "        return\n",
    "    \n",
    "    @classmethod\n",
    "    def printStats( self ):\n",
    "        print(\"From: \"+str(self.startDate)+\" To: \"+str(self.endDate))\n",
    "        print(\"Number of Days: \"+str(self.days))\n",
    "        print(\"Initial Price:  \"+str(self.initialPrice))\n",
    "        print(\"Highest High:   \"+str(self.highestHigh)+\"  \"+str(self.highMult)+\"   on \"+str(self.highestHighDate))\n",
    "        print(\"Lowest Low:     \"+str(self.lowestLow)+\"  \"+str(self.lowMult)+\"   on \"+str(self.lowestLowDate))\n",
    "        print(\"Low High Ratio: \"+str(self.lowHighRatio))\n",
    "        return\n",
    "    \n",
    "market = MarketStats()\n",
    "\n",
    "market.calculateStats(d)\n",
    "\n",
    "market.printStats()\n",
    "\n",
    "print(market)"
   ]
  },
  {
   "cell_type": "code",
   "execution_count": null,
   "metadata": {
    "collapsed": true
   },
   "outputs": [],
   "source": []
  }
 ],
 "metadata": {
  "kernelspec": {
   "display_name": "Python 3",
   "language": "python",
   "name": "python3"
  },
  "language_info": {
   "codemirror_mode": {
    "name": "ipython",
    "version": 3
   },
   "file_extension": ".py",
   "mimetype": "text/x-python",
   "name": "python",
   "nbconvert_exporter": "python",
   "pygments_lexer": "ipython3",
   "version": "3.6.2"
  }
 },
 "nbformat": 4,
 "nbformat_minor": 2
}
