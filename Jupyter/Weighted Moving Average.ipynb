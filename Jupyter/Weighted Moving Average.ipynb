{
 "cells": [
  {
   "cell_type": "markdown",
   "metadata": {},
   "source": [
    "# Weighted Moving Average"
   ]
  },
  {
   "cell_type": "markdown",
   "metadata": {},
   "source": [
    "## Sample"
   ]
  },
  {
   "cell_type": "code",
   "execution_count": 1,
   "metadata": {},
   "outputs": [
    {
     "name": "stdout",
     "output_type": "stream",
     "text": [
      "   a     b\n",
      "0  0  0.19\n",
      "1  1  0.00\n",
      "2  2  0.91\n",
      "3  3  0.16\n",
      "4  4  0.67\n",
      "5  5  0.13\n",
      "6  6  0.80\n",
      "7  7  0.04\n",
      "8  8  0.37\n",
      "9  9  0.86\n"
     ]
    }
   ],
   "source": [
    "import numpy as np\n",
    "import os\n",
    "import sys\n",
    "import pandas as pd\n",
    "d = pd.DataFrame({'a':range(10), 'b':np.random.random(size=10)})\n",
    "d.b = d.b.round(2)\n",
    "print(d)"
   ]
  },
  {
   "cell_type": "code",
   "execution_count": 5,
   "metadata": {},
   "outputs": [
    {
     "name": "stdout",
     "output_type": "stream",
     "text": [
      "<class 'numpy.ndarray'>\n",
      "[-1  2]\n",
      "   a     b    C      D\n",
      "0  0  0.19  NaN    NaN\n",
      "1  1  0.00  1.0 -0.095\n",
      "2  2  0.91  1.5  0.910\n",
      "3  3  0.16  2.0 -0.295\n",
      "4  4  0.67  2.5  0.590\n",
      "5  5  0.13  3.0 -0.205\n",
      "6  6  0.80  3.5  0.735\n",
      "7  7  0.04  4.0 -0.360\n",
      "8  8  0.37  4.5  0.350\n",
      "9  9  0.86  5.0  0.675\n"
     ]
    }
   ],
   "source": [
    "wts = np.array([-1, 2])\n",
    "def f(w):                        \n",
    "        def g(x):\n",
    "            return (w*x).mean()\n",
    "        return g\n",
    "d[\"C\"] = d[\"a\"].rolling(window=2).apply(f(wts))\n",
    "d[\"D\"] = d[\"b\"].rolling(window=2).apply(f(wts))\n",
    "print(type(wts))\n",
    "print(wts)\n",
    "print(d)"
   ]
  },
  {
   "cell_type": "markdown",
   "metadata": {},
   "source": [
    "## Skyze Implementation"
   ]
  },
  {
   "cell_type": "code",
   "execution_count": 49,
   "metadata": {},
   "outputs": [
    {
     "name": "stdout",
     "output_type": "stream",
     "text": [
      "       Date    Open    High     Low   Close Volume   MarketCap  HLOrder\n",
      "0  20130428  135.30  135.98  132.10  134.21      -  1500520000      NaN\n",
      "1  20130429  134.44  147.49  134.00  144.54      -  1491160000      NaN\n",
      "2  20130430  144.00  146.93  134.05  139.00      -  1597780000      NaN\n",
      "3  20130501  139.00  139.89  107.72  116.99      -  1542820000      NaN\n",
      "4  20130502  116.38  125.60   92.28  105.21      -  1292190000      NaN\n",
      "              Open    High     Low   Close Volume   MarketCap  HLOrder\n",
      "2013-04-28  135.30  135.98  132.10  134.21      -  1500520000      NaN\n",
      "2013-04-29  134.44  147.49  134.00  144.54      -  1491160000      NaN\n",
      "2013-04-30  144.00  146.93  134.05  139.00      -  1597780000      NaN\n",
      "2013-05-01  139.00  139.89  107.72  116.99      -  1542820000      NaN\n",
      "2013-05-02  116.38  125.60   92.28  105.21      -  1292190000      NaN\n"
     ]
    }
   ],
   "source": [
    "import numpy as np\n",
    "import os\n",
    "import sys\n",
    "import pandas as pd\n",
    "import Skyze_Standard_Library.settings_skyze as settings_skyze\n",
    "\n",
    "file_path = os.path.join(settings_skyze.test_data_file_path, \"%s.csv\" % \"bitcoin_TEST\")\n",
    "df = pd.read_csv(\n",
    "                        \"../\"+file_path, \n",
    "                        header=None ,\n",
    "                        names = [\n",
    "                                  \"Date\", \"Open\", \"High\", \"Low\",\n",
    "                                  \"Close\", \"Volume\", \"MarketCap\",\"HLOrder\"\n",
    "                                ],\n",
    "                        #index_col = \"Date\"\n",
    "                        )\n",
    "print(df.head(5))\n",
    "import datetime as datetime\n",
    "from dateutil import parser\n",
    "df.index = [parser.parse(str(d)) for d in df[\"Date\"]]\n",
    "del df[\"Date\"]\n",
    "#df.index = pd.to_datetime(df.index)\n",
    "p_data = df\n",
    "print(p_data.head(5))"
   ]
  },
  {
   "cell_type": "code",
   "execution_count": 75,
   "metadata": {},
   "outputs": [
    {
     "name": "stdout",
     "output_type": "stream",
     "text": [
      "<class 'numpy.ndarray'>\n",
      "[ 1  2  3  4  5  6  7  8  9 10 11 12 13 14 15]\n"
     ]
    }
   ],
   "source": [
    "# Option 2 using Pandas Rolling\n",
    "        # https://stackoverflow.com/questions/39742797/calculating-weighted-moving-average-using-pandas-rolling-method\n",
    "        # construct thet weights array\n",
    "wma_period = 15\n",
    "weights = np.array(list(range(1,wma_period+1)))\n",
    "print(type(weights))\n",
    "print(weights)"
   ]
  },
  {
   "cell_type": "code",
   "execution_count": 87,
   "metadata": {},
   "outputs": [
    {
     "name": "stdout",
     "output_type": "stream",
     "text": [
      "<class 'function'>\n",
      "<function wma at 0x10ce60c80>\n",
      "<class 'function'>\n",
      "<function wma.<locals>.g at 0x10ce608c8>\n"
     ]
    }
   ],
   "source": [
    "# construct the fucntion to calcualte wma for each point\n",
    "def wma(w):\n",
    "    def g(x):\n",
    "        return (w/x).mean()\n",
    "    return g\n",
    "\n",
    "print(type(wma))\n",
    "print(wma)\n",
    "print(type(wma(weights)))\n",
    "print(wma(weights))"
   ]
  },
  {
   "cell_type": "code",
   "execution_count": null,
   "metadata": {},
   "outputs": [],
   "source": []
  },
  {
   "cell_type": "code",
   "execution_count": 88,
   "metadata": {},
   "outputs": [
    {
     "name": "stderr",
     "output_type": "stream",
     "text": [
      "/Users/michaelnew/.local/share/virtualenvs/Skyze-v-C51IT9/lib/python3.6/site-packages/ipykernel_launcher.py:4: FutureWarning: pd.rolling_apply is deprecated for Series and will be removed in a future version, replace with \n",
      "\tSeries.rolling(window=15,center=False).apply(func=<function>,args=<tuple>,kwargs=<dict>)\n",
      "  after removing the cwd from sys.path.\n"
     ]
    }
   ],
   "source": [
    "wma_column = \"Close\"\n",
    "p_data[\"WMA_15\"]=p_data[wma_column].rolling(window=wma_period).apply(wma((weights,)))\n",
    "\n",
    "p_data[\"roll_app\"]=pd.rolling_apply(p_data[wma_column],wma_period,wma(weights))\n"
   ]
  },
  {
   "cell_type": "code",
   "execution_count": 89,
   "metadata": {},
   "outputs": [
    {
     "name": "stdout",
     "output_type": "stream",
     "text": [
      "             Close    WMA_15  roll_app\n",
      "2013-04-28  134.21       NaN       NaN\n",
      "2013-04-29  144.54       NaN       NaN\n",
      "2013-04-30  139.00       NaN       NaN\n",
      "2013-05-01  116.99       NaN       NaN\n",
      "2013-05-02  105.21       NaN       NaN\n",
      "2013-05-03   97.75       NaN       NaN\n",
      "2013-05-04  112.50       NaN       NaN\n",
      "2013-05-05  115.91       NaN       NaN\n",
      "2013-05-06  112.30       NaN       NaN\n",
      "2013-05-07  111.50       NaN       NaN\n",
      "2013-05-08  113.57       NaN       NaN\n",
      "2013-05-09  112.67       NaN       NaN\n",
      "2013-05-10  117.20       NaN       NaN\n",
      "2013-05-11  115.24       NaN       NaN\n",
      "2013-05-12  115.00  0.070216  0.070216\n",
      "2013-05-13  117.98  0.070104  0.070104\n",
      "2013-05-14  111.50  0.070416  0.070416\n",
      "2013-05-15  114.22  0.070378  0.070378\n",
      "2013-05-16  118.76  0.069901  0.069901\n",
      "2013-05-17  123.02  0.069141  0.069141\n",
      "2013-05-18  123.50  0.068441  0.068441\n",
      "2013-05-19  121.99  0.067984  0.067984\n",
      "2013-05-20  122.00  0.067572  0.067572\n",
      "2013-05-21  122.88  0.067130  0.067130\n",
      "2013-05-22  123.89  0.066673  0.066673\n"
     ]
    }
   ],
   "source": [
    "print(p_data[[\"Close\",\"WMA_15\",\"roll_app\"]].head(25))"
   ]
  },
  {
   "cell_type": "code",
   "execution_count": 54,
   "metadata": {},
   "outputs": [
    {
     "name": "stdout",
     "output_type": "stream",
     "text": [
      "929.5\n"
     ]
    }
   ],
   "source": [
    "print((134+115*15)/2)"
   ]
  },
  {
   "cell_type": "code",
   "execution_count": 57,
   "metadata": {},
   "outputs": [
    {
     "name": "stdout",
     "output_type": "stream",
     "text": [
      "<class 'pandas.core.window.Rolling'>\n",
      "Rolling [window=15,center=False,axis=0]\n"
     ]
    }
   ],
   "source": [
    "x=p_data[wma_column].rolling(window=wma_period)\n",
    "print(type(x))\n",
    "print(x)"
   ]
  },
  {
   "cell_type": "code",
   "execution_count": 62,
   "metadata": {},
   "outputs": [
    {
     "name": "stdout",
     "output_type": "stream",
     "text": [
      "<class 'pandas.core.series.Series'>\n",
      "2013-04-28         NaN\n",
      "2013-04-29         NaN\n",
      "2013-04-30         NaN\n",
      "2013-05-01         NaN\n",
      "2013-05-02         NaN\n",
      "2013-05-03         NaN\n",
      "2013-05-04         NaN\n",
      "2013-05-05         NaN\n",
      "2013-05-06         NaN\n",
      "2013-05-07         NaN\n",
      "2013-05-08         NaN\n",
      "2013-05-09         NaN\n",
      "2013-05-10         NaN\n",
      "2013-05-11         NaN\n",
      "2013-05-12    0.070216\n",
      "2013-05-13    0.070104\n",
      "2013-05-14    0.070416\n",
      "2013-05-15    0.070378\n",
      "2013-05-16    0.069901\n",
      "2013-05-17    0.069141\n",
      "Name: Close, dtype: float64\n"
     ]
    }
   ],
   "source": [
    "print(type(x.apply(wma(weights))))\n",
    "print(x.apply(wma(weights)).head(20))"
   ]
  },
  {
   "cell_type": "code",
   "execution_count": 68,
   "metadata": {},
   "outputs": [
    {
     "data": {
      "text/plain": [
       "[1, 2, 3, 4, 5, 6, 7, 8, 9, 10, 11, 12, 13, 14, 15]"
      ]
     },
     "execution_count": 68,
     "metadata": {},
     "output_type": "execute_result"
    }
   ],
   "source": [
    "list(range(1,16))"
   ]
  },
  {
   "cell_type": "code",
   "execution_count": 64,
   "metadata": {},
   "outputs": [
    {
     "name": "stdout",
     "output_type": "stream",
     "text": [
      "range(0, 15)\n"
     ]
    }
   ],
   "source": [
    "print(range(15))"
   ]
  },
  {
   "cell_type": "code",
   "execution_count": null,
   "metadata": {},
   "outputs": [],
   "source": []
  }
 ],
 "metadata": {
  "kernelspec": {
   "display_name": "Python 3",
   "language": "python",
   "name": "python3"
  },
  "language_info": {
   "codemirror_mode": {
    "name": "ipython",
    "version": 3
   },
   "file_extension": ".py",
   "mimetype": "text/x-python",
   "name": "python",
   "nbconvert_exporter": "python",
   "pygments_lexer": "ipython3",
   "version": "3.6.2"
  }
 },
 "nbformat": 4,
 "nbformat_minor": 2
}
